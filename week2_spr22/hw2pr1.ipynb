{
 "cells": [
  {
   "cell_type": "markdown",
   "metadata": {},
   "source": [
    "<br>\n",
    "\n",
    "#### week2 ~ the-web-as-output...  &nbsp;&nbsp; (hw2pr1.ipynb)\n",
    "\n",
    "[the google doc with hw2's details](https://docs.google.com/document/d/1i-K9n8rbA2-EUe9krQV-RJGGfwDvNNHIfzqvsHizvLY/edit)\n",
    "<hr>"
   ]
  },
  {
   "cell_type": "markdown",
   "metadata": {},
   "source": [
    "#### hw2, problem 1:  From markdown to markup...  with regular expressions.\n",
    "\n",
    "<b>Building your own (limited) web engine</b> \n",
    "\n",
    "(hw2pr1.ipynb)\n",
    "\n",
    "+ Here, you'll build your own \"web engine,\" at least one that converts from markdown into markup...\n",
    "+ A starter engine is provided, below :-)     \n",
    "+ What does it do?\n",
    "\n",
    "<br>\n",
    "\n",
    "+ First, our \"engine\" reads a file  (to begin, we will use input_file.txt)\n",
    "+ It loops line-by-line, using regular expressions to search for markdown\n",
    "+ It then generates the appropriate translation of that markdown into markup\n",
    "+ ... and outputs the resulting file, ready to be viewed in a browser. \n",
    "\n",
    "<br>\n",
    "Building a _full_ web engine is left for a final project :-)"
   ]
  },
  {
   "cell_type": "code",
   "execution_count": 1,
   "metadata": {},
   "outputs": [],
   "source": [
    "#\n",
    "# The next cell's markdown is this:\n",
    "\n",
    "OldStr = \"\"\"\n",
    "# Big Text!\n",
    "# Still Big Text!!\n",
    "#### Reasonable text...\n",
    "\"\"\""
   ]
  },
  {
   "cell_type": "markdown",
   "metadata": {},
   "source": [
    "# Big Text!\n",
    "# Still Big Text!!\n",
    "#### Reasonable text..."
   ]
  },
  {
   "cell_type": "code",
   "execution_count": 16,
   "metadata": {},
   "outputs": [
    {
     "name": "stdout",
     "output_type": "stream",
     "text": [
      "OldL has 5 lines.\n",
      "NewStr is \n",
      " \n",
      "<h1> Big Text!</h1>\n",
      "<h1> Still Big Text!!</h1>\n",
      "<h4> Reasonable text...</h4>\n",
      "\n"
     ]
    }
   ],
   "source": [
    "#\n",
    "# first, a web engine (without regular expressions...)\n",
    "#\n",
    "# This transforms the markdown copied from the cell above! :-)\n",
    "#\n",
    "\n",
    "def transform_headers( original_lines ):\n",
    "    \"\"\" Applies headers, h1-h5, as tags  \n",
    "    \"\"\"\n",
    "    # one loop to handle all headings: h1-h5\n",
    "    new_lines =[]\n",
    "\n",
    "    for line in original_lines:  # loop over each file-line\n",
    "        line = line.strip()  # removes space on either side (side only)\n",
    "        \n",
    "        if line.startswith(\"#####\"):                      # start with five #\n",
    "            line = \"<h5>\" + line[5:] + \"</h5>\"  # then it's an \"h5\" \n",
    "        if line.startswith(\"####\"):                      \n",
    "            line = \"<h4>\" + line[4:] + \"</h4>\"  \n",
    "        if line.startswith(\"###\"):                      \n",
    "            line = \"<h3>\" + line[3:] + \"</h3>\"\n",
    "        if line.startswith(\"##\"):                      \n",
    "            line = \"<h2>\" + line[2:] + \"</h2>\"\n",
    "        # without regular expressions:\n",
    "        if line.startswith(\"#\"):                      # start with one #\n",
    "            line = \"<h1>\" + line[1:] + \"</h1>\"  # then it's an \"h1\" (level-one header)\n",
    "        \n",
    "        \n",
    "        # with regular expressions!\n",
    "        #line = re.sub(r\"^#(.*)$\", r\"<h1>\\1</h1>\", line)  # Yikes!  Let's unpack this!\n",
    "\n",
    "        new_lines += [ line ]\n",
    "\n",
    "    return new_lines\n",
    "\n",
    "\n",
    "if True:\n",
    "    OldStr = \"\"\"\n",
    "# Big Text!\n",
    "# Still Big Text!!\n",
    "#### Reasonable text...\n",
    "\"\"\"\n",
    "    OldL = OldStr.split(\"\\n\")\n",
    "    print(f\"OldL has {len(OldL)} lines.\")\n",
    "    NewL = transform_headers(OldL)\n",
    "    NewStr = '\\n'.join(NewL)\n",
    "    print(f\"NewStr is \\n {NewStr}\")\n",
    "\n",
    "\n",
    "# Lots to think about and fix here...\n",
    "# how to handle hashes / spaces in front / other markdown styling? ...\n",
    "\n",
    "# regular expressions are general-purpose syntax matchers!"
   ]
  },
  {
   "cell_type": "code",
   "execution_count": 2,
   "metadata": {},
   "outputs": [],
   "source": [
    "#\n",
    "# import the regular expressions library\n",
    "#\n",
    "\n",
    "import re"
   ]
  },
  {
   "cell_type": "code",
   "execution_count": 10,
   "metadata": {},
   "outputs": [
    {
     "name": "stdout",
     "output_type": "stream",
     "text": [
      "<h1>  Big Text! </h1>\n"
     ]
    }
   ],
   "source": [
    "#\n",
    "# Here is that \"Yikes!\" line - let's dive into the deep end!!\n",
    "import re\n",
    "# line = \"  _start_ __wow__ ~~ strikethrough ~~ _end_ \"  # for styles...\n",
    "#\n",
    "line = \"# Big Text!\"\n",
    "newline = re.sub(r\"^#(.*)$\", r\"<h1> \\1 </h1>\", line)     # Yikes!  Let's unpack this!\n",
    " \n",
    "print(newline)"
   ]
  },
  {
   "cell_type": "code",
   "execution_count": 14,
   "metadata": {},
   "outputs": [
    {
     "data": {
      "text/plain": [
       "'mildred Mud'"
      ]
     },
     "execution_count": 14,
     "metadata": {},
     "output_type": "execute_result"
    }
   ],
   "source": [
    "\n",
    "# Let's try some smaller examples to build up to the above (crazy!) example\n",
    "\n",
    "# fundamental capability:  plain substitution\n",
    "#       regex     replacer   in this context\n",
    "re.sub(r\"Harvey\", \"Mildred\",  \"Harvey Mud\")   # the 'r' is for 'raw' strings: best for reg. expressions...\n",
    "\n",
    "# # can operate more than once!\n",
    "re.sub(r\"d\", \"dd\", \"Harvey Mud\" )   # try \"Harvey Mudd\" and \"Mildred Mud\"\n",
    "\n",
    "# # can be anchored: ^ (start) or $ (end)\n",
    "re.sub(r\"d$\", \"dd\", \"Mildred Mud\" )   # try \"Harvey Mudd\" and \"Mildred Mud\"\n",
    "\n",
    "# # here's a ^ (start) anchor example\n",
    "re.sub(r\"^M\", \"m\", \"Mildred Mud\" )   # try \"Harvey Mudd\" and \"Mildred Mud\"\n"
   ]
  },
  {
   "cell_type": "code",
   "execution_count": 18,
   "metadata": {},
   "outputs": [
    {
     "data": {
      "text/plain": [
       "\"Mildred's # aliens...\""
      ]
     },
     "execution_count": 18,
     "metadata": {},
     "output_type": "execute_result"
    }
   ],
   "source": [
    "## Try these, too!\n",
    "\n",
    "# multiple instances:  {3}, {2,4}, etc.\n",
    "re.sub(r\"i{3}\", \"i\", \"Miiildred's aliiien\")   # three i's\n",
    "\n",
    "# # + is one or more\n",
    "re.sub(r\"i+\", \"i\", \"Miiildred's     aliiiiien\")   # one or more: try spaces, too\n",
    "\n",
    "# # * is zero or more\n",
    "re.sub(r\"i*\", \"i\", \"Mildred's     alien\")   # Now, that's weiiird!\n",
    "\n",
    "# # ranges\n",
    "re.sub(r\"[0-9]+\", \"#\", \"Mildred's 42 aliens...\")   # Try other numbers - how about a comma?!\n",
    "\n"
   ]
  },
  {
   "cell_type": "code",
   "execution_count": 21,
   "metadata": {},
   "outputs": [
    {
     "data": {
      "text/plain": [
       "'<h1>  Big Text! </h1>'"
      ]
     },
     "execution_count": 21,
     "metadata": {},
     "output_type": "execute_result"
    }
   ],
   "source": [
    "## And these!!!\n",
    "\n",
    "# capture groups and the dot (.) matching one character\n",
    "re.sub(r\"^#\", \"<title>\", \"# Mildred's many aliens...\")  # how to get the whole thing?!\n",
    "\n",
    "# # capture groups and the dot (.) matching one character  (watch that 2nd r!)\n",
    "re.sub(r\"^#(.*)$\", r\"<title> \\1 </title>\", \"# Mildred's many aliens...\")  # how to get the whole thing?!\n",
    "\n",
    "# # Now, we're home free (maybe?!)\n",
    "# line = \"# Big Text!\"\n",
    "re.sub(r\"^#(.*)$\", r\"<h1> \\1 </h1>\", line)     # Yikes!  Let's unpack this!\n",
    "\n",
    "# Challenge:  what if we want to swap around the i's? from aliiien -> eniiial and Yiiikes -> kesiiiY\n",
    "# we need _two_ \"capture groups\"!\n",
    "\n",
    "# Now, we're ready for transform_styles..."
   ]
  },
  {
   "cell_type": "code",
   "execution_count": 13,
   "metadata": {},
   "outputs": [
    {
     "name": "stdout",
     "output_type": "stream",
     "text": [
      "OldL has 6 lines.\n",
      "NewStr is \n",
      " \n",
      "          <s> this was a mistake! </s>\n",
      "          <i>this is important</i>\n",
      "          <b>this is even more important</b>\n",
      "          <i>This line</i> does <s>not</s> have it <b>all</b>! <i>Right?</i> \n",
      "\n"
     ]
    }
   ],
   "source": [
    "#\n",
    "# Here is another function, for stylings...\n",
    "#\n",
    "\n",
    "def transform_styles( original_lines ):\n",
    "    \"\"\" Applies word styling as tags\n",
    "    \"\"\"\n",
    "    \n",
    "    new_lines =[]\n",
    "\n",
    "    for line in original_lines:\n",
    "        # regular expression example!\n",
    "        line = re.sub(r\"~~(.*?)~~\", r\"<s>\\1</s>\", line)   # strikethrough\n",
    "        line = re.sub(r\"_(.*?)_\", r\"<i>\\1</i>\", line)      # italics\n",
    "        line = re.sub(r\"\\*\\*(.*?)\\*\\*\", r\"<b>\\1</b>\", line) # bold\n",
    "        line = re.sub(r\"\\[(.*?)\\]\\((.*?)\\)\", r'<a href=\"\\2\">\\1</a>', line) # hyperlinks\n",
    "        # let's practice some others...!\n",
    "        # regular expressions:   https://docs.python.org/3.9/library/re.html\n",
    "        # more extensive howto:  https://docs.python.org/3/howto/regex.html\n",
    "        new_lines += [ line ]\n",
    "\n",
    "    return new_lines\n",
    "\n",
    "\n",
    "if True:\n",
    "    OldStr = \"\"\"\n",
    "          ~~ this was a mistake! ~~\n",
    "          _this is important_\n",
    "          **this is even more important**\n",
    "          _This line_ does ~~not~~ have it **all**! _Right?_ \n",
    "\"\"\"\n",
    "    OldL = OldStr.split(\"\\n\")\n",
    "    print(f\"OldL has {len(OldL)} lines.\")\n",
    "    NewL = transform_styles(OldL)\n",
    "    NewStr = '\\n'.join(NewL)\n",
    "    print(f\"NewStr is \\n {NewStr}\")"
   ]
  },
  {
   "cell_type": "code",
   "execution_count": null,
   "metadata": {},
   "outputs": [],
   "source": [
    "    # Your styling tasks:   Ensure that at least these four styles work and add more:\n",
    "    #\n",
    "    #   _italic_   and    *italic*     \n",
    "    #   __bold__   and    **bold**   \n",
    "    #   ~~strikethrough~~\n",
    "    #   [urlname](urllink)   [Google](https://www.google.com)\n",
    "    #\n",
    "    #   Remember: for some symbols, you need to \"backslash\" them (xkcd.com/1638/)\n",
    "    #   \n",
    "    #   Additions?\n",
    "    #   your own approach to superscript or subscript\n",
    "    #   colorize things, perhaps based on the contents\n",
    "    #   underlining, not usually available in markdown\n",
    "    #\n",
    "    #   extra:  BLINKING (wow ~ tricky!)\n",
    "    #   extra:  \"alternate heading syntax\" (at https://www.markdownguide.org/basic-syntax/#lists-1)"
   ]
  },
  {
   "cell_type": "code",
   "execution_count": 14,
   "metadata": {},
   "outputs": [
    {
     "name": "stdout",
     "output_type": "stream",
     "text": [
      "OldL has 5 lines.\n",
      "NewStr is \n",
      " \n",
      "<ul>\n",
      "<li> Level-one item</li>\n",
      "</ul>\n",
      "<ul>\n",
      "<li> Another level-one item</li>\n",
      "</ul>\n",
      "<ul>\n",
      "<li> yet-another level-one item</li>\n",
      "</ul>\n",
      "\n"
     ]
    }
   ],
   "source": [
    "def transform_lists(original_lines):\n",
    "    \"\"\" converts lines beginning with \"+\" into HTML lists\n",
    "    \"\"\"\n",
    "    new_lines = []\n",
    "\n",
    "    for line in original_lines:   # loop, looking for +'s\n",
    "\n",
    "        line = line.strip()       # remove spaces on either side of the content...\n",
    "        if line.startswith(\"+\"):  \n",
    "            line = \"<ul>\\n<li>\" + line[1:] + \"</li>\\n</ul>\"\n",
    "\n",
    "        new_lines += [ line ]\n",
    "        \n",
    "    return new_lines               # much to fix!\n",
    "    \n",
    "\n",
    "#\n",
    "# let's try it...\n",
    "#\n",
    "\n",
    "if True:\n",
    "    OldStr = \"\"\"\n",
    "+ Level-one item\n",
    "+ Another level-one item\n",
    "+ yet-another level-one item\n",
    "\"\"\"\n",
    "    OldL = OldStr.split(\"\\n\")\n",
    "    print(f\"OldL has {len(OldL)} lines.\")\n",
    "    NewL = transform_lists(OldL)\n",
    "    NewStr = '\\n'.join(NewL)\n",
    "    print(f\"NewStr is \\n {NewStr}\")\n",
    "    "
   ]
  },
  {
   "cell_type": "code",
   "execution_count": 19,
   "metadata": {},
   "outputs": [
    {
     "name": "stdout",
     "output_type": "stream",
     "text": [
      "OldL has 4 lines.\n",
      "NewStr is \n",
      " \n",
      "           <u>underline this</u>\n",
      "          <!-->this is a comment<--> \n",
      "\n"
     ]
    }
   ],
   "source": [
    "#\n",
    "# Here is another function, for stylings...\n",
    "#\n",
    "\n",
    "def transform_more( original_lines ):\n",
    "    \"\"\" Applies creative wordstyling\n",
    "        I created a markdown for underlining and comments\n",
    "    \"\"\"\n",
    "    \n",
    "    new_lines =[]\n",
    "\n",
    "    for line in original_lines:\n",
    "        # regular expression example!\n",
    "        line = re.sub(r\"@(.*?)@\", r\"<u>\\1</u>\", line)   # use @ for underlining text in markdown\n",
    "        line = re.sub(r\"%(.*?)%\", r\"<!-->\\1<-->\", line) # use % for comments\n",
    "        # line = re.sub(r\"\\*\\*(.*?)\\*\\*\", r\"<b>\\1</b>\", line)\n",
    "        # line = re.sub(r\"\\[(.*?)\\]\\((.*?)\\)\", r'<a href=\"\\2\">\\1</a>', line)\n",
    "        # let's practice some others...!\n",
    "        # regular expressions:   https://docs.python.org/3.9/library/re.html\n",
    "        # more extensive howto:  https://docs.python.org/3/howto/regex.html\n",
    "        new_lines += [ line ]\n",
    "\n",
    "    return new_lines\n",
    "\n",
    "\n",
    "if True:\n",
    "    OldStr = \"\"\"\n",
    "           @underline this@\n",
    "          %this is a comment% \n",
    "\"\"\"\n",
    "    OldL = OldStr.split(\"\\n\")\n",
    "    print(f\"OldL has {len(OldL)} lines.\")\n",
    "    NewL = transform_more(OldL)\n",
    "    NewStr = '\\n'.join(NewL)\n",
    "    print(f\"NewStr is \\n {NewStr}\")"
   ]
  },
  {
   "cell_type": "markdown",
   "metadata": {},
   "source": [
    "<br>\n",
    "\n",
    "#### Our overall script, engining markdown to markup..."
   ]
  },
  {
   "cell_type": "code",
   "execution_count": 17,
   "metadata": {},
   "outputs": [
    {
     "name": "stdout",
     "output_type": "stream",
     "text": [
      "Original contents:\n",
      "\n",
      "\n",
      "# Claremont Colleges\n",
      "\n",
      "We want this!     ~~ not this! ~~\n",
      "\n",
      "+ one\n",
      "+ two\n",
      "+ three\n",
      "\n",
      "\n",
      "There are 8 lines in the input.\n",
      "The output is \n",
      "    <html>\n",
      "<link rel=\"stylesheet\" href=\"starter.css\">\n",
      "<body>\n",
      "\n",
      "\n",
      "<h1> Claremont Colleges</h1>\n",
      "\n",
      "We want this!     <s> not this! </s>\n",
      "\n",
      "<ul>\n",
      "<li> one</li>\n",
      "</ul>\n",
      "<ul>\n",
      "<li> two</li>\n",
      "</ul>\n",
      "<ul>\n",
      "<li> three</li>\n",
      "</ul>\n",
      "\n",
      "</body>\n",
      "</html>\n",
      "\n",
      "\n",
      "+++++++++++++++++++++++++++++++++++\n",
      "\n",
      "output_file.html has been written to file\n"
     ]
    }
   ],
   "source": [
    "#\n",
    "# our script!\n",
    "#\n",
    "if True:\n",
    "    \"\"\" handles the conversion from the human-typed file to the HTML output \"\"\"\n",
    "\n",
    "    INPUT_FILENAME = \"input_file.txt\"   # or \"input_file.md\"\n",
    "    with open(INPUT_FILENAME, \"r\", encoding=\"utf-8\") as f:\n",
    "        contents = f.read()\n",
    "\n",
    "    print(f\"Original contents:\\n\\n{contents}\\n\\n\") \n",
    "\n",
    "    # Split to create a list of lines...\n",
    "    input_lines = contents.split(\"\\n\")  # split to create a list of lines \n",
    "\n",
    "    # how many input lines are there?\n",
    "    print(f\"There are {len(input_lines)} lines in the input.\")\n",
    "\n",
    "    output_lines = input_lines   # simple!\n",
    "\n",
    "    output_lines = transform_headers(output_lines)\n",
    "    output_lines = transform_styles(output_lines)\n",
    "    output_lines = transform_lists(output_lines)\n",
    "\n",
    "    # finally, we join everything together with the '\\n' character ...\n",
    "    html_from_markdown = '\\n'.join(output_lines)\n",
    "    \n",
    "    # Wow! This is a serious application of f-strings (triple-quoted):\n",
    "    full_html = f\"\"\"\n",
    "    <html>\n",
    "<link rel=\"stylesheet\" href=\"starter.css\">\n",
    "<body>\n",
    "\n",
    "{html_from_markdown}\n",
    "\n",
    "</body>\n",
    "</html>\n",
    "\"\"\"\n",
    "    print(f\"The output is {full_html}\")\n",
    "\n",
    "    # save this text to a file (so that we can use a browser to render it)\n",
    "    OUTPUT_FILENAME = \"output_file.html\"\n",
    "    with open(OUTPUT_FILENAME, \"w\") as f:     # write this out to a file...\n",
    "        f.write( full_html )\n",
    "\n",
    "    print(\"\\n+++++++++++++++++++++++++++++++++++\\n\")\n",
    "    print(f\"{OUTPUT_FILENAME} has been written to file\")\n",
    "\n",
    "    # then, reload output.html in your browser...   (control-r or command-r, often)"
   ]
  },
  {
   "cell_type": "code",
   "execution_count": null,
   "metadata": {},
   "outputs": [],
   "source": [
    "#\n",
    "# Your tasks!    \n",
    "#\n",
    "\n",
    "#\n",
    "# Build from the above invitations in order to\n",
    "#  \n",
    "# (a) handle the different heading-levels\n",
    "# (b) handle the different stylings\n",
    "# (c) handle lists by at least removing the plus-signs (fully-correct list-handling is optional!)\n",
    "# (d) invent two _new_ markdown features (your own design) and handle those...\n",
    "#\n",
    "# Congrats!  You've developed your own markdown-to-markup web engine!\n",
    "#            Now, let's build two more!! (pr2 and pr3)\n",
    "#\n",
    "# :-)\n",
    "\n"
   ]
  },
  {
   "cell_type": "code",
   "execution_count": null,
   "metadata": {},
   "outputs": [],
   "source": []
  }
 ],
 "metadata": {
  "interpreter": {
   "hash": "7ccb4bb6bd67730c9185e6c24c983362cd7b4575b595bfae100d8d91e48f4f1e"
  },
  "kernelspec": {
   "display_name": "Python 3.8.8 64-bit (conda)",
   "language": "python",
   "name": "python3"
  },
  "language_info": {
   "codemirror_mode": {
    "name": "ipython",
    "version": 3
   },
   "file_extension": ".py",
   "mimetype": "text/x-python",
   "name": "python",
   "nbconvert_exporter": "python",
   "pygments_lexer": "ipython3",
   "version": "3.10.2"
  },
  "orig_nbformat": 4
 },
 "nbformat": 4,
 "nbformat_minor": 2
}
