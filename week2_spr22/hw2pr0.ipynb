{
 "cells": [
  {
   "cell_type": "markdown",
   "metadata": {},
   "source": [
    "<br>\n",
    "\n",
    "#### week2 ~ the-web-as-output...  &nbsp;&nbsp; (hw2pr0.ipynb)\n",
    "\n",
    "[the google doc with hw2's details](https://docs.google.com/document/d/1i-K9n8rbA2-EUe9krQV-RJGGfwDvNNHIfzqvsHizvLY/edit)\n",
    "<hr>"
   ]
  },
  {
   "cell_type": "markdown",
   "metadata": {},
   "source": [
    "#### Reading for hw2...     (hw2pr0.ipynb)\n",
    "\n",
    "<br>\n",
    "For this week, there are _two_ possibilities for the \"Reading\" problem:\n",
    "+ Choose either one (or both for +5pts ec)\n",
    "\n",
    "\n",
    "<br>\n",
    "<b>Choice A</b>    \n",
    "\n",
    "Try W3schools! Specifically their [HOW TO section](https://www.w3schools.com/howto/default.asp) \n",
    "\n",
    "Those with webdev sophistication (note: definitely not me!) express reservations about W3schools's resources, I admit I find them a wonderful way to \"teach yourself as needed\" ... which is a philosophy that fits the cs35/cs181y workflow well! The idea:\n",
    "+ choose one of w3schools's \"how-to\" items and get to know it... \n",
    "+ try it out...   and \n",
    "+ explore a bit what it can - and, perhaps, can't - do. \n",
    "\n",
    "<br>\n",
    "\n",
    "Then, for your \"response,\" create a _personalized_ version of the \"how-to\" you've chosen and submit two files at once: (1) the source code, perhaps named hw2pr0.html and (2) a screenshot named hw2pr0.png.  (To be honest, other filenames are completely ok, too...)  \n",
    "\n",
    "<br>\n",
    "In this case, you don't really need to submit this notebook (feel free to do so, if you'd like! :-)\n",
    "\n",
    "<br>\n",
    "<hr>\n",
    "<br>\n",
    "\n",
    "<br>\n",
    "<b>Choice B</b>    &nbsp;&nbsp;  <i><b>No code/Low code computing: the future?    [5 pts]</b></i>\n",
    "\n",
    "A [recent Economist article](https://www.economist.com/business/2022/01/29/what-if-all-workers-wrote-software-not-just-the-geek-elite) looks at the no code/low code phenomenon.  ([Here is a locally available pdf copy.](https://drive.google.com/file/d/1R9d-AXZ1leyzY8xy1AaQV6fN1a4A9-Mc/view?usp=sharing))  The article imagines the value in broadening the audience who actively envision-and-create computation -- especially without the syntactic overhead, e.g., of Python or its PL siblings. \n",
    "\n",
    "<br>\n",
    "The article invites several questions that seem poised to expand in scope soon... . Choose any one of these on which to elaborate:\n",
    "+ What experiences have you had with non-textual programming (or, more generally speaking, \"process-specification\"). Share how those experiences differ, for you, with textually-mediated programming.\n",
    "+ Have you experienced contexts where text-based interfaces get in the way? Where non-text-based interfaces get in the way? How would you describe the problems that arose?\n",
    "+ If you could wave a wand over the K-12 educational system, would you include (a) non-textual process-specification? (b) textually-mediated process-specification? (i.e., programming as it's often imagined) (c) both? (d) neither?  Elaborate on your vision!\n",
    "\n",
    "<br>\n",
    "\n",
    "As ever with our reading-responses, a paragraph of 4-6 sentences -- that connects the article with your own thoughts and experiences -- is all that's needed. More is great - and completely optional.\n",
    "\n",
    "<hr>"
   ]
  },
  {
   "cell_type": "markdown",
   "metadata": {},
   "source": [
    "#### Reading response\n",
    "\n",
    "(Feel free to use this cell for your response.)"
   ]
  }
 ],
 "metadata": {
  "interpreter": {
   "hash": "7ccb4bb6bd67730c9185e6c24c983362cd7b4575b595bfae100d8d91e48f4f1e"
  },
  "kernelspec": {
   "display_name": "Python 3.8.8 64-bit (conda)",
   "language": "python",
   "name": "python3"
  },
  "language_info": {
   "codemirror_mode": {
    "name": "ipython",
    "version": 3
   },
   "file_extension": ".py",
   "mimetype": "text/x-python",
   "name": "python",
   "nbconvert_exporter": "python",
   "pygments_lexer": "ipython3",
   "version": "3.10.2"
  },
  "orig_nbformat": 4
 },
 "nbformat": 4,
 "nbformat_minor": 2
}
